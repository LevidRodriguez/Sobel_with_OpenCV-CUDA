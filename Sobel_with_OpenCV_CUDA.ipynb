{
  "nbformat": 4,
  "nbformat_minor": 0,
  "metadata": {
    "colab": {
      "name": "Sobel_with_OpenCV_CUDA.ipynb",
      "version": "0.3.2",
      "provenance": [],
      "collapsed_sections": [],
      "toc_visible": true
    },
    "kernelspec": {
      "name": "python3",
      "display_name": "Python 3"
    },
    "accelerator": "GPU"
  },
  "cells": [
    {
      "cell_type": "markdown",
      "metadata": {
        "id": "xaEKDdDkwiMZ",
        "colab_type": "text"
      },
      "source": [
        "# Filtro de Sobel\n",
        "\n",
        "> ## *Comparacion del filtro de Sobel implementado en CPU, OpenCV y CUDA*\n",
        "\n"
      ]
    },
    {
      "cell_type": "code",
      "metadata": {
        "id": "GKcBfA6-NlsK",
        "colab_type": "code",
        "outputId": "9d149e7e-1b2b-45b5-dad5-8ca3e607514b",
        "colab": {
          "base_uri": "https://localhost:8080/",
          "height": 1000
        }
      },
      "source": [
        "print(\"Sistema operativo usado: \")\n",
        "!lsb_release -a\n",
        "print(\">>>> Clone Repository...\")\n",
        "!git clone https://github.com/LevidRodriguez/Sobel_with_OpenCV-CUDA.git\n",
        "%cd Sobel_with_OpenCV-CUDA\n",
        "print (\">>> Setup CUDA...\")\n",
        "!pip install git+git://github.com/andreinechaev/nvcc4jupyter.git\n",
        "%load_ext nvcc_plugin\n",
        "print(\">>> Compiling...\")\n",
        "!make all\n",
        "print(\">>> Run program...\")\n",
        "# use: ./sobelFilter <srcimg>\n",
        "# !./sobelFilter images/lena.jpg\n",
        "# !./sobelFilter images/DJI_0748.JPG\n",
        "# !./sobelFilter images/DJI_0832.JPG\n",
        "# !./sobelFilter images/DJI_0659.JPG\n",
        "# !./sobelFilter images/DJI_0189.JPG\n",
        "# !./sobelFilter images/DJI_0257.JPG\n",
        "!./sobelFilter images/DJI_0279.JPG\n",
        "print (\"nvprof: \")\n",
        "!nvprof ./sobelFilter images/DJI_0279.JPG\n",
        "print(\">>> Downloading results...\")\n",
        "from google.colab import files\n",
        "print(\"    >>> Downloading outImgCPU.png...\")\n",
        "files.download(\"outImgCPU.png\")\n",
        "print(\"    >>> Downloading outImgOpenCV.png...\")\n",
        "files.download(\"outImgOpenCV.png\")\n",
        "print(\"    >>> Downloading outImgGPU.png...\")\n",
        "files.download(\"outImgGPU.png\")\n",
        "print(\">>> Remove repository...\")\n",
        "%cd ..\n",
        "!rm -r Sobel_with_OpenCV-CUDA/\n",
        "print(\">>> Done <<<<\")"
      ],
      "execution_count": 8,
      "outputs": [
        {
          "output_type": "stream",
          "text": [
            "Sistema operativo usado: \n",
            "No LSB modules are available.\n",
            "Distributor ID:\tUbuntu\n",
            "Description:\tUbuntu 18.04.2 LTS\n",
            "Release:\t18.04\n",
            "Codename:\tbionic\n",
            ">>>> Clone Repository...\n",
            "Cloning into 'Sobel_with_OpenCV-CUDA'...\n",
            "remote: Enumerating objects: 20, done.\u001b[K\n",
            "remote: Counting objects: 100% (20/20), done.\u001b[K\n",
            "remote: Compressing objects: 100% (16/16), done.\u001b[K\n",
            "remote: Total 362 (delta 6), reused 18 (delta 4), pack-reused 342\u001b[K\n",
            "Receiving objects: 100% (362/362), 69.28 MiB | 60.58 MiB/s, done.\n",
            "Resolving deltas: 100% (215/215), done.\n",
            "/content/Sobel_with_OpenCV-CUDA\n",
            ">>> Setup CUDA...\n",
            "Collecting git+git://github.com/andreinechaev/nvcc4jupyter.git\n",
            "  Cloning git://github.com/andreinechaev/nvcc4jupyter.git to /tmp/pip-req-build-jphv2i_u\n",
            "  Running command git clone -q git://github.com/andreinechaev/nvcc4jupyter.git /tmp/pip-req-build-jphv2i_u\n",
            "Requirement already satisfied (use --upgrade to upgrade): NVCCPlugin==0.0.2 from git+git://github.com/andreinechaev/nvcc4jupyter.git in /usr/local/lib/python3.6/dist-packages\n",
            "Building wheels for collected packages: NVCCPlugin\n",
            "  Building wheel for NVCCPlugin (setup.py) ... \u001b[?25l\u001b[?25hdone\n",
            "  Stored in directory: /tmp/pip-ephem-wheel-cache-0br59cow/wheels/10/c2/05/ca241da37bff77d60d31a9174f988109c61ba989e4d4650516\n",
            "Successfully built NVCCPlugin\n",
            "The nvcc_plugin extension is already loaded. To reload it, use:\n",
            "  %reload_ext nvcc_plugin\n",
            ">>> Compiling...\n",
            "nvcc -o sobelFilter -Wno-deprecated-gpu-targets -O2 -Xcompiler -fopenmp -std=c++11 `pkg-config opencv --cflags --libs` sobelFilter.cu\n",
            ">>> Run program...\n",
            "---------- Wed Jun 26 09:46:35 2019 ----------\n",
            "GPU: Tesla T4, CUDA 7.5, 15079 Mbytes \n",
            "OpenCV Version: 3.2.0\n",
            "Archivo: images/DJI_0279.JPG: 720 rows x 1280 columns\n",
            "CPU execution time   = 9.06153 msec\n",
            "OPENCV execution time   = 3.47576 msec\n",
            "CUDA execution time   = 0.144621 msec\n",
            "nvprof: \n",
            "==1040== NVPROF is profiling process 1040, command: ./sobelFilter images/DJI_0279.JPG\n",
            "---------- Wed Jun 26 09:46:36 2019 ----------\n",
            "GPU: Tesla T4, CUDA 7.5, 15079 Mbytes \n",
            "OpenCV Version: 3.2.0\n",
            "Archivo: images/DJI_0279.JPG: 720 rows x 1280 columns\n",
            "CPU execution time   = 8.20955 msec\n",
            "OPENCV execution time   = 4.05763 msec\n",
            "CUDA execution time   = 0.138435 msec\n",
            "==1040== Profiling application: ./sobelFilter images/DJI_0279.JPG\n",
            "==1040== Profiling result:\n",
            "            Type  Time(%)      Time     Calls       Avg       Min       Max  Name\n",
            " GPU activities:   34.35%  79.289us         1  79.289us  79.289us  79.289us  sobelFilterGPU(unsigned char*, unsigned char*, unsigned int, unsigned int)\n",
            "                   33.96%  78.393us         1  78.393us  78.393us  78.393us  [CUDA memcpy HtoD]\n",
            "                   31.16%  71.930us         1  71.930us  71.930us  71.930us  [CUDA memcpy DtoH]\n",
            "                    0.54%  1.2480us         1  1.2480us  1.2480us  1.2480us  [CUDA memset]\n",
            "      API calls:   99.09%  197.65ms         2  98.826ms  1.3060us  197.65ms  cudaEventCreate\n",
            "                    0.25%  501.03us         2  250.52us  235.28us  265.75us  cudaMemcpy\n",
            "                    0.15%  304.67us         1  304.67us  304.67us  304.67us  cuDeviceTotalMem\n",
            "                    0.15%  296.89us         2  148.44us  5.0980us  291.79us  cudaMalloc\n",
            "                    0.09%  176.01us        96  1.8330us     187ns  70.825us  cuDeviceGetAttribute\n",
            "                    0.08%  166.01us         1  166.01us  166.01us  166.01us  cudaGetDeviceProperties\n",
            "                    0.06%  120.90us         2  60.451us  14.046us  106.86us  cudaFree\n",
            "                    0.06%  117.39us         1  117.39us  117.39us  117.39us  cudaDeviceSynchronize\n",
            "                    0.02%  37.760us         1  37.760us  37.760us  37.760us  cudaMemset\n",
            "                    0.01%  28.604us         1  28.604us  28.604us  28.604us  cudaStreamCreate\n",
            "                    0.01%  27.797us         1  27.797us  27.797us  27.797us  cuDeviceGetName\n",
            "                    0.01%  17.552us         1  17.552us  17.552us  17.552us  cudaLaunchKernel\n",
            "                    0.01%  10.988us         1  10.988us  10.988us  10.988us  cudaStreamDestroy\n",
            "                    0.00%  7.9730us         2  3.9860us  3.1100us  4.8630us  cudaEventRecord\n",
            "                    0.00%  4.1240us         1  4.1240us  4.1240us  4.1240us  cuDeviceGetPCIBusId\n",
            "                    0.00%  3.0630us         1  3.0630us  3.0630us  3.0630us  cudaEventElapsedTime\n",
            "                    0.00%  2.1190us         3     706ns     202ns  1.3250us  cuDeviceGetCount\n",
            "                    0.00%     889ns         2     444ns     309ns     580ns  cuDeviceGet\n",
            "                    0.00%     352ns         1     352ns     352ns     352ns  cuDeviceGetUuid\n",
            ">>> Downloading results...\n",
            "    >>> Downloading outImgCPU.png...\n",
            "    >>> Downloading outImgOpenCV.png...\n",
            "    >>> Downloading outImgGPU.png...\n",
            ">>> Remove repository...\n",
            "/content\n",
            ">>> Done <<<<\n"
          ],
          "name": "stdout"
        }
      ]
    },
    {
      "cell_type": "markdown",
      "metadata": {
        "id": "ET-E_eurYcUl",
        "colab_type": "text"
      },
      "source": [
        "## Si el programa ha fallado...\n",
        "\n",
        "> Elimar directorio para nuevas pruebas\n",
        "\n"
      ]
    },
    {
      "cell_type": "code",
      "metadata": {
        "id": "J-CYgV-bYreo",
        "colab_type": "code",
        "outputId": "c2be64e4-42ae-4dd8-f231-38b619284284",
        "colab": {
          "base_uri": "https://localhost:8080/",
          "height": 97
        }
      },
      "source": [
        "print(\">>> Clean...\")\n",
        "print(\">>> Remove repository...\")\n",
        "%cd ..\n",
        "!rm -r Sobel_with_OpenCV-CUDA/\n",
        "print(\">>> Done <<<<\")"
      ],
      "execution_count": 3,
      "outputs": [
        {
          "output_type": "stream",
          "text": [
            ">>> Clean...\n",
            ">>> Remove repository...\n",
            "/content\n",
            ">>> Done <<<<\n"
          ],
          "name": "stdout"
        }
      ]
    },
    {
      "cell_type": "markdown",
      "metadata": {
        "id": "_b0pFLfv3Lx8",
        "colab_type": "text"
      },
      "source": [
        "## Drive"
      ]
    },
    {
      "cell_type": "code",
      "metadata": {
        "id": "n8stzGjJ0MtW",
        "colab_type": "code",
        "colab": {}
      },
      "source": [
        "# Ejecuta esta celda para activar Google Drive.\n",
        "from google.colab import drive\n",
        "drive.mount('/content/drive')"
      ],
      "execution_count": 0,
      "outputs": []
    }
  ]
}